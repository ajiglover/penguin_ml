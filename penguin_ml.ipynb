{
 "cells": [
  {
   "cell_type": "code",
   "execution_count": 22,
   "id": "ab7bcb8c-eb59-42cf-b01a-dd430f069874",
   "metadata": {},
   "outputs": [],
   "source": [
    "import pandas as pd\n",
    "from sklearn.metrics import accuracy_score\n",
    "from sklearn.ensemble import RandomForestClassifier\n",
    "from sklearn.model_selection import train_test_split\n",
    "import pickle"
   ]
  },
  {
   "cell_type": "code",
   "execution_count": 23,
   "id": "817c64fe-6ce6-4a9b-a8b2-6f28fac54ae6",
   "metadata": {},
   "outputs": [],
   "source": [
    "penguin_df = pd.read_csv('penguins.csv')"
   ]
  },
  {
   "cell_type": "code",
   "execution_count": 24,
   "id": "3300d72b-bfc8-4f40-8ee3-df564feaaf2e",
   "metadata": {},
   "outputs": [],
   "source": [
    "penguin_df.dropna(inplace=True)"
   ]
  },
  {
   "cell_type": "code",
   "execution_count": 25,
   "id": "bbfc089a-98eb-4f15-915d-217563deb428",
   "metadata": {},
   "outputs": [],
   "source": [
    "output = penguin_df['species']"
   ]
  },
  {
   "cell_type": "code",
   "execution_count": 26,
   "id": "b98a7d5b-de99-4215-8380-5449740f9c69",
   "metadata": {},
   "outputs": [],
   "source": [
    "features = penguin_df[['island',  'bill_length_mm', 'bill_depth_mm', 'flipper_length_mm', 'body_mass_g', 'sex']]"
   ]
  },
  {
   "cell_type": "code",
   "execution_count": 27,
   "id": "404a4821-2e71-42e4-9c7b-006aff77a1a7",
   "metadata": {},
   "outputs": [],
   "source": [
    "features = pd.get_dummies(features)"
   ]
  },
  {
   "cell_type": "code",
   "execution_count": 28,
   "id": "d57581ed-7c11-4f7a-8477-00daaeede35d",
   "metadata": {},
   "outputs": [],
   "source": [
    "output, uniques = pd.factorize(output)"
   ]
  },
  {
   "cell_type": "code",
   "execution_count": 29,
   "id": "45a10c8a-45b3-477f-91b2-6ba9b05a8463",
   "metadata": {},
   "outputs": [
    {
     "name": "stdout",
     "output_type": "stream",
     "text": [
      "Our accuracy score for this model is 0.9775280898876404\n"
     ]
    }
   ],
   "source": [
    "x_train, x_test, y_train, y_test = train_test_split(\n",
    "    features, output, test_size=.8)\n",
    "rfc = RandomForestClassifier(random_state=15)\n",
    "rfc.fit(x_train.values, y_train)\n",
    "y_pred = rfc.predict(x_test.values)\n",
    "score = accuracy_score(y_pred, y_test)\n",
    "print('Our accuracy score for this model is {}'.format(score))"
   ]
  },
  {
   "cell_type": "code",
   "execution_count": 31,
   "id": "2e79ec1c-2309-4f05-a5f6-34477f183ded",
   "metadata": {},
   "outputs": [],
   "source": [
    "rf_pickle = open('random_forest_penguin.pickle', 'wb')\n",
    "pickle.dump(rfc, rf_pickle)\n",
    "rf_pickle.close()\n"
   ]
  },
  {
   "cell_type": "code",
   "execution_count": 32,
   "id": "63054f30-3043-45d2-8986-ebc408bfae94",
   "metadata": {},
   "outputs": [],
   "source": [
    "output_pickle =open('output_penguin.pickle', 'wb')\n",
    "pickle.dump(uniques, output_pickle)\n",
    "output_pickle.close()"
   ]
  },
  {
   "cell_type": "code",
   "execution_count": null,
   "id": "90ceccc9-bc7e-4c74-ab10-c1bd5e8ac44b",
   "metadata": {},
   "outputs": [],
   "source": []
  }
 ],
 "metadata": {
  "kernelspec": {
   "display_name": "Python 3 (ipykernel)",
   "language": "python",
   "name": "python3"
  },
  "language_info": {
   "codemirror_mode": {
    "name": "ipython",
    "version": 3
   },
   "file_extension": ".py",
   "mimetype": "text/x-python",
   "name": "python",
   "nbconvert_exporter": "python",
   "pygments_lexer": "ipython3",
   "version": "3.11.5"
  }
 },
 "nbformat": 4,
 "nbformat_minor": 5
}
